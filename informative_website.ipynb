{
 "cells": [
  {
   "cell_type": "code",
   "execution_count": 8,
   "metadata": {},
   "outputs": [
    {
     "name": "stdout",
     "output_type": "stream",
     "text": [
      "  Country/Territory   Region C/T  Edition Status  PR rating  CL rating  A1  \\\n",
      "0          Abkhazia  Eurasia   t     2024     PF          5          5   2   \n",
      "1       Afghanistan     Asia   c     2024     NF          7          7   0   \n",
      "2           Albania   Europe   c     2024     PF          3          3   3   \n",
      "3           Algeria   Africa   c     2024     NF          6          5   1   \n",
      "4           Andorra   Europe   c     2024      F          1          1   4   \n",
      "\n",
      "   A2  A3  ...  F3  F4   F  G1  G2  G3  G4   G  CL  Total  \n",
      "0   2   1  ...   1   1   4   1   1   2   1   5  22     39  \n",
      "1   0   0  ...   0   0   0   0   1   0   1   2   5      6  \n",
      "2   3   3  ...   2   3  10   3   2   2   2   9  40     68  \n",
      "3   1   1  ...   2   2   6   2   2   2   1   7  22     32  \n",
      "4   4   4  ...   4   3  15   4   4   3   4  15  55     93  \n",
      "\n",
      "[5 rows x 44 columns]\n"
     ]
    }
   ],
   "source": [
    "\n",
    "\n",
    "import pandas as pd\n",
    "\n",
    "# read the file with semicolon delimiter and skipping first row of data.\n",
    "df = pd.read_csv('/Users/mirregrouls/Downloads/informative_website/Copy of All_data_FIW_2013-2024.csv', delimiter=';', skiprows=1)\n",
    "\n",
    "\n",
    "# display the first few rows of the df.\n",
    "print(df.head())\n"
   ]
  },
  {
   "cell_type": "code",
   "execution_count": null,
   "metadata": {},
   "outputs": [],
   "source": []
  }
 ],
 "metadata": {
  "kernelspec": {
   "display_name": "base",
   "language": "python",
   "name": "python3"
  },
  "language_info": {
   "codemirror_mode": {
    "name": "ipython",
    "version": 3
   },
   "file_extension": ".py",
   "mimetype": "text/x-python",
   "name": "python",
   "nbconvert_exporter": "python",
   "pygments_lexer": "ipython3",
   "version": "3.11.4"
  }
 },
 "nbformat": 4,
 "nbformat_minor": 2
}
